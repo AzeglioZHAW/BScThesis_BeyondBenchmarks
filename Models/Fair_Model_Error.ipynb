{
 "cells": [
  {
   "cell_type": "code",
   "execution_count": 108,
   "metadata": {},
   "outputs": [],
   "source": [
    "import pandas as pd\n",
    "import numpy as np\n",
    "\n",
    "%matplotlib inline\n",
    "import matplotlib.pyplot as plt\n",
    "import seaborn as sns\n",
    "\n",
    "from sklearn.neural_network import MLPClassifier\n",
    "from sklearn.ensemble import AdaBoostClassifier\n",
    "from sklearn.ensemble import RandomForestClassifier\n",
    "from sklearn.ensemble import BaggingClassifier\n",
    "\n",
    "from sklearn.model_selection import train_test_split\n",
    "from sklearn.model_selection import cross_validate, StratifiedKFold\n",
    "from sklearn.model_selection import RepeatedStratifiedKFold\n",
    "\n",
    "from sklearn.metrics import accuracy_score, classification_report, confusion_matrix\n",
    "\n",
    "from sklearn.preprocessing import StandardScaler\n",
    "\n",
    "from aif360.sklearn.datasets import standardize_dataset\n",
    "from aif360.sklearn.metrics import statistical_parity_difference, disparate_impact_ratio,\\\n",
    "                                   equal_opportunity_difference, average_odds_difference, \\\n",
    "                                   generalized_entropy_index, theil_index\n",
    "from aif360.sklearn.preprocessing import Reweighing\n",
    "from aif360.sklearn.postprocessing import CalibratedEqualizedOdds, PostProcessingMeta, RejectOptionClassifier\n",
    "from aif360.sklearn.utils import check_inputs, check_groups\n",
    "\n"
   ]
  },
  {
   "cell_type": "code",
   "execution_count": 72,
   "metadata": {},
   "outputs": [],
   "source": [
    "loandata = pd.read_csv('../LoanData_prepared.csv')"
   ]
  },
  {
   "cell_type": "code",
   "execution_count": 73,
   "metadata": {},
   "outputs": [
    {
     "data": {
      "text/plain": [
       "(241909, 21)"
      ]
     },
     "execution_count": 73,
     "metadata": {},
     "output_type": "execute_result"
    }
   ],
   "source": [
    "df = pd.DataFrame(loandata)\n",
    "df.shape"
   ]
  },
  {
   "cell_type": "code",
   "execution_count": 83,
   "metadata": {},
   "outputs": [
    {
     "name": "stdout",
     "output_type": "stream",
     "text": [
      "<class 'pandas.core.frame.DataFrame'>\n",
      "RangeIndex: 241909 entries, 0 to 241908\n",
      "Data columns (total 61 columns):\n",
      " #   Column                                                         Non-Null Count   Dtype  \n",
      "---  ------                                                         --------------   -----  \n",
      " 0   AppliedAmount                                                  241909 non-null  float64\n",
      " 1   DebtToIncome                                                   241909 non-null  float64\n",
      " 2   AmountOfPreviousLoansBeforeLoan                                241909 non-null  float64\n",
      " 3   ExistingLiabilities                                            241909 non-null  int64  \n",
      " 4   FreeCash                                                       241909 non-null  float64\n",
      " 5   IncomeTotal                                                    241909 non-null  float64\n",
      " 6   Interest                                                       241909 non-null  float64\n",
      " 7   LiabilitiesTotal                                               241909 non-null  float64\n",
      " 8   LoanDuration                                                   241909 non-null  int64  \n",
      " 9   MonthlyPayment                                                 241909 non-null  float64\n",
      " 10  NewCreditCustomer                                              241909 non-null  int64  \n",
      " 11  NoOfPreviousLoansBeforeLoan                                    241909 non-null  float64\n",
      " 12  Default                                                        241909 non-null  int64  \n",
      " 13  Country_EE                                                     241909 non-null  bool   \n",
      " 14  Country_ES                                                     241909 non-null  bool   \n",
      " 15  Country_FI                                                     241909 non-null  bool   \n",
      " 16  Country_SK                                                     241909 non-null  bool   \n",
      " 17  Education_Basic education                                      241909 non-null  bool   \n",
      " 18  Education_Higher education                                     241909 non-null  bool   \n",
      " 19  Education_Primary education                                    241909 non-null  bool   \n",
      " 20  Education_Secondary education                                  241909 non-null  bool   \n",
      " 21  Education_Vocational education                                 241909 non-null  bool   \n",
      " 22  EmploymentDurationCurrentEmployer_MoreThan5Years               241909 non-null  bool   \n",
      " 23  EmploymentDurationCurrentEmployer_Other                        241909 non-null  bool   \n",
      " 24  EmploymentDurationCurrentEmployer_Retiree                      241909 non-null  bool   \n",
      " 25  EmploymentDurationCurrentEmployer_TrialPeriod                  241909 non-null  bool   \n",
      " 26  EmploymentDurationCurrentEmployer_UpTo1Year                    241909 non-null  bool   \n",
      " 27  EmploymentDurationCurrentEmployer_UpTo2Years                   241909 non-null  bool   \n",
      " 28  EmploymentDurationCurrentEmployer_UpTo3Years                   241909 non-null  bool   \n",
      " 29  EmploymentDurationCurrentEmployer_UpTo4Years                   241909 non-null  bool   \n",
      " 30  EmploymentDurationCurrentEmployer_UpTo5Years                   241909 non-null  bool   \n",
      " 31  Gender_Female                                                  241909 non-null  bool   \n",
      " 32  Gender_Male                                                    241909 non-null  bool   \n",
      " 33  Gender_Undefined                                               241909 non-null  bool   \n",
      " 34  HomeOwnershipType_Council house                                241909 non-null  bool   \n",
      " 35  HomeOwnershipType_Homeless                                     241909 non-null  bool   \n",
      " 36  HomeOwnershipType_Joint ownership                              241909 non-null  bool   \n",
      " 37  HomeOwnershipType_Joint tenant                                 241909 non-null  bool   \n",
      " 38  HomeOwnershipType_Living with parents                          241909 non-null  bool   \n",
      " 39  HomeOwnershipType_Mortgage                                     241909 non-null  bool   \n",
      " 40  HomeOwnershipType_Other                                        241909 non-null  bool   \n",
      " 41  HomeOwnershipType_Owner                                        241909 non-null  bool   \n",
      " 42  HomeOwnershipType_Owner with encumbrance                       241909 non-null  bool   \n",
      " 43  HomeOwnershipType_Tenant, pre-furnished property               241909 non-null  bool   \n",
      " 44  HomeOwnershipType_Tenant, unfurnished property                 241909 non-null  bool   \n",
      " 45  VerificationType_Income and expenses verified                  241909 non-null  bool   \n",
      " 46  VerificationType_Income unverified                             241909 non-null  bool   \n",
      " 47  VerificationType_Income unverified, cross-referenced by phone  241909 non-null  bool   \n",
      " 48  VerificationType_Income verified                               241909 non-null  bool   \n",
      " 49  LanguageCode_English                                           241909 non-null  bool   \n",
      " 50  LanguageCode_Estonian                                          241909 non-null  bool   \n",
      " 51  LanguageCode_Finnish                                           241909 non-null  bool   \n",
      " 52  LanguageCode_German                                            241909 non-null  bool   \n",
      " 53  LanguageCode_Russian                                           241909 non-null  bool   \n",
      " 54  LanguageCode_Slovakian                                         241909 non-null  bool   \n",
      " 55  LanguageCode_Spanish                                           241909 non-null  bool   \n",
      " 56  Age_Group_18-30                                                241909 non-null  bool   \n",
      " 57  Age_Group_31-40                                                241909 non-null  bool   \n",
      " 58  Age_Group_41-50                                                241909 non-null  bool   \n",
      " 59  Age_Group_51-60                                                241909 non-null  bool   \n",
      " 60  Age_Group_61-70                                                241909 non-null  bool   \n",
      "dtypes: bool(48), float64(9), int64(4)\n",
      "memory usage: 35.1 MB\n"
     ]
    }
   ],
   "source": [
    "df.info()"
   ]
  },
  {
   "cell_type": "code",
   "execution_count": 76,
   "metadata": {},
   "outputs": [
    {
     "data": {
      "text/plain": [
       "AppliedAmount                        0\n",
       "DebtToIncome                         0\n",
       "AmountOfPreviousLoansBeforeLoan      0\n",
       "Country                              0\n",
       "Education                            0\n",
       "EmploymentDurationCurrentEmployer    0\n",
       "ExistingLiabilities                  0\n",
       "FreeCash                             0\n",
       "Gender                               0\n",
       "HomeOwnershipType                    0\n",
       "IncomeTotal                          0\n",
       "Interest                             0\n",
       "LiabilitiesTotal                     0\n",
       "LoanDuration                         0\n",
       "MonthlyPayment                       0\n",
       "NewCreditCustomer                    0\n",
       "NoOfPreviousLoansBeforeLoan          0\n",
       "VerificationType                     0\n",
       "LanguageCode                         0\n",
       "Default                              0\n",
       "Age_Group                            0\n",
       "dtype: int64"
      ]
     },
     "execution_count": 76,
     "metadata": {},
     "output_type": "execute_result"
    }
   ],
   "source": [
    "df.isnull().sum()"
   ]
  },
  {
   "cell_type": "code",
   "execution_count": 115,
   "metadata": {},
   "outputs": [],
   "source": [
    "protected = ['Education_Basic education', 'Education_Primary education']"
   ]
  },
  {
   "cell_type": "code",
   "execution_count": 6,
   "metadata": {},
   "outputs": [],
   "source": [
    "priv_group_dict = {'Education_Basic education':1,\n",
    "                   'Education_Primary education':0}"
   ]
  },
  {
   "cell_type": "markdown",
   "metadata": {},
   "source": [
    "# Fair Model Training"
   ]
  },
  {
   "cell_type": "code",
   "execution_count": 111,
   "metadata": {},
   "outputs": [],
   "source": [
    "df = pd.get_dummies(df)\n",
    "\n",
    "\n",
    "\n",
    "X, y = standardize_dataset(df, prot_attr=protected, target='Default')\n",
    "\n",
    "#Initialize Reweighing\n",
    "RW = Reweighing(prot_attr=protected)\n",
    "\n",
    "X_train, X_test, y_train, y_test = train_test_split(X, y, test_size=0.1, random_state=42, stratify=y)\n",
    "\n",
    "# Do the reweighing on the data\n",
    "# Sample weights are saved in new variable sample_weights!\n",
    "X_train, sample_weights = RW.fit_transform(X_train, y_train)\n",
    "\n",
    "scaler=StandardScaler().set_output(transform='pandas')\n",
    "\n",
    "# Select numerical features from training data\n",
    "numerical_features = X_train.select_dtypes(include=np.number).columns.tolist()\n",
    "\n",
    "# Fit scaler to training data\n",
    "scaler.fit(X_train[numerical_features])\n",
    "\n",
    "# Transform training and testing data using scaler\n",
    "X_train = scaler.transform(X_train[numerical_features])\n",
    "X_test = scaler.transform(X_test[numerical_features])"
   ]
  },
  {
   "cell_type": "code",
   "execution_count": 109,
   "metadata": {},
   "outputs": [
    {
     "data": {
      "text/plain": [
       "(                                                                                                                                                                AppliedAmount  \\\n",
       " Education_Basic education Education_Primary education Education_Higher education Education_Secondary education Education_Vocational education Gender_Undefined                  \n",
       " False                     False                       False                      False                         True                           False                  0.710542   \n",
       "                                                       True                       False                         False                          False                  1.193435   \n",
       "                                                                                                                                               True                   0.229462   \n",
       "                           True                        False                      False                         False                          False                 -0.976184   \n",
       "                           False                       False                      True                          False                          True                  -0.252524   \n",
       " ...                                                                                                                                                                       ...   \n",
       "                                                       True                       False                         False                          False                 -0.746753   \n",
       "                                                                                                                                               False                  0.430328   \n",
       "                                                       False                      False                         True                           False                  0.665200   \n",
       "                                                       True                       False                         False                          False                 -0.975731   \n",
       "                           True                        False                      False                         False                          False                  1.481358   \n",
       " \n",
       "                                                                                                                                                                 DebtToIncome  \\\n",
       " Education_Basic education Education_Primary education Education_Higher education Education_Secondary education Education_Vocational education Gender_Undefined                 \n",
       " False                     False                       False                      False                         True                           False                -0.308657   \n",
       "                                                       True                       False                         False                          False                -0.308657   \n",
       "                                                                                                                                               True                 -0.308657   \n",
       "                           True                        False                      False                         False                          False                -0.308657   \n",
       "                           False                       False                      True                          False                          True                 -0.308657   \n",
       " ...                                                                                                                                                                      ...   \n",
       "                                                       True                       False                         False                          False                -0.308657   \n",
       "                                                                                                                                               False                -0.308657   \n",
       "                                                       False                      False                         True                           False                -0.308657   \n",
       "                                                       True                       False                         False                          False                -0.308657   \n",
       "                           True                        False                      False                         False                          False                -0.308657   \n",
       " \n",
       "                                                                                                                                                                 AmountOfPreviousLoansBeforeLoan  \\\n",
       " Education_Basic education Education_Primary education Education_Higher education Education_Secondary education Education_Vocational education Gender_Undefined                                    \n",
       " False                     False                       False                      False                         True                           False                                   -0.637025   \n",
       "                                                       True                       False                         False                          False                                    0.161568   \n",
       "                                                                                                                                               True                                    -0.637025   \n",
       "                           True                        False                      False                         False                          False                                   -0.637025   \n",
       "                           False                       False                      True                          False                          True                                    -0.637025   \n",
       " ...                                                                                                                                                                                         ...   \n",
       "                                                       True                       False                         False                          False                                    2.118533   \n",
       "                                                                                                                                               False                                   -0.438573   \n",
       "                                                       False                      False                         True                           False                                   -0.637025   \n",
       "                                                       True                       False                         False                          False                                    1.580588   \n",
       "                           True                        False                      False                         False                          False                                   -0.637025   \n",
       " \n",
       "                                                                                                                                                                 ExistingLiabilities  \\\n",
       " Education_Basic education Education_Primary education Education_Higher education Education_Secondary education Education_Vocational education Gender_Undefined                        \n",
       " False                     False                       False                      False                         True                           False                       -0.896970   \n",
       "                                                       True                       False                         False                          False                        0.508002   \n",
       "                                                                                                                                               True                         0.508002   \n",
       "                           True                        False                      False                         False                          False                       -0.545727   \n",
       "                           False                       False                      True                          False                          True                        -0.896970   \n",
       " ...                                                                                                                                                                             ...   \n",
       "                                                       True                       False                         False                          False                        0.859245   \n",
       "                                                                                                                                               False                        0.156759   \n",
       "                                                       False                      False                         True                           False                       -0.194484   \n",
       "                                                       True                       False                         False                          False                        0.156759   \n",
       "                           True                        False                      False                         False                          False                       -0.896970   \n",
       " \n",
       "                                                                                                                                                                 FreeCash  \\\n",
       " Education_Basic education Education_Primary education Education_Higher education Education_Secondary education Education_Vocational education Gender_Undefined             \n",
       " False                     False                       False                      False                         True                           False             -0.10746   \n",
       "                                                       True                       False                         False                          False             -0.10746   \n",
       "                                                                                                                                               True              -0.10746   \n",
       "                           True                        False                      False                         False                          False             -0.10746   \n",
       "                           False                       False                      True                          False                          True              -0.10746   \n",
       " ...                                                                                                                                                                  ...   \n",
       "                                                       True                       False                         False                          False             -0.10746   \n",
       "                                                                                                                                               False             -0.10746   \n",
       "                                                       False                      False                         True                           False             -0.10746   \n",
       "                                                       True                       False                         False                          False             -0.10746   \n",
       "                           True                        False                      False                         False                          False             -0.10746   \n",
       " \n",
       "                                                                                                                                                                 IncomeTotal  \\\n",
       " Education_Basic education Education_Primary education Education_Higher education Education_Secondary education Education_Vocational education Gender_Undefined                \n",
       " False                     False                       False                      False                         True                           False                0.080391   \n",
       "                                                       True                       False                         False                          False                0.277962   \n",
       "                                                                                                                                               True                -0.077667   \n",
       "                           True                        False                      False                         False                          False               -0.087545   \n",
       "                           False                       False                      True                          False                          True                -0.087545   \n",
       " ...                                                                                                                                                                     ...   \n",
       "                                                       True                       False                         False                          False                0.050755   \n",
       "                                                                                                                                               False                0.065573   \n",
       "                                                       False                      False                         True                           False                0.050755   \n",
       "                                                       True                       False                         False                          False               -0.090509   \n",
       "                           True                        False                      False                         False                          False                0.021119   \n",
       " \n",
       "                                                                                                                                                                 Interest  \\\n",
       " Education_Basic education Education_Primary education Education_Higher education Education_Secondary education Education_Vocational education Gender_Undefined             \n",
       " False                     False                       False                      False                         True                           False             1.365243   \n",
       "                                                       True                       False                         False                          False             1.178696   \n",
       "                                                                                                                                               True             -0.413514   \n",
       "                           True                        False                      False                         False                          False             3.652551   \n",
       "                           False                       False                      True                          False                          True              1.981598   \n",
       " ...                                                                                                                                                                  ...   \n",
       "                                                       True                       False                         False                          False            -0.566313   \n",
       "                                                                                                                                               False            -0.502100   \n",
       "                                                       False                      False                         True                           False             0.281584   \n",
       "                                                       True                       False                         False                          False            -0.900504   \n",
       "                           True                        False                      False                         False                          False             1.365243   \n",
       " \n",
       "                                                                                                                                                                 LiabilitiesTotal  \\\n",
       " Education_Basic education Education_Primary education Education_Higher education Education_Secondary education Education_Vocational education Gender_Undefined                     \n",
       " False                     False                       False                      False                         True                           False                    -0.016805   \n",
       "                                                       True                       False                         False                          False                     0.018955   \n",
       "                                                                                                                                               True                      0.001757   \n",
       "                           True                        False                      False                         False                          False                    -0.010042   \n",
       "                           False                       False                      True                          False                          True                     -0.016805   \n",
       " ...                                                                                                                                                                          ...   \n",
       "                                                       True                       False                         False                          False                    -0.005816   \n",
       "                                                                                                                                               False                     0.000231   \n",
       "                                                       False                      False                         True                           False                     0.001231   \n",
       "                                                       True                       False                         False                          False                    -0.004061   \n",
       "                           True                        False                      False                         False                          False                    -0.016805   \n",
       " \n",
       "                                                                                                                                                                 LoanDuration  \\\n",
       " Education_Basic education Education_Primary education Education_Higher education Education_Secondary education Education_Vocational education Gender_Undefined                 \n",
       " False                     False                       False                      False                         True                           False                 0.646001   \n",
       "                                                       True                       False                         False                          False                -0.711970   \n",
       "                                                                                                                                               True                  0.646001   \n",
       "                           True                        False                      False                         False                          False                -0.711970   \n",
       "                           False                       False                      True                          False                          True                  0.646001   \n",
       " ...                                                                                                                                                                      ...   \n",
       "                                                       True                       False                         False                          False                 0.646001   \n",
       "                                                                                                                                               False                 0.646001   \n",
       "                                                       False                      False                         True                           False                 0.646001   \n",
       "                                                       True                       False                         False                          False                 0.646001   \n",
       "                           True                        False                      False                         False                          False                 0.646001   \n",
       " \n",
       "                                                                                                                                                                 MonthlyPayment  \\\n",
       " Education_Basic education Education_Primary education Education_Higher education Education_Secondary education Education_Vocational education Gender_Undefined                   \n",
       " False                     False                       False                      False                         True                           False                   1.267835   \n",
       "                                                       True                       False                         False                          False                   2.112163   \n",
       "                                                                                                                                               True                   -0.125243   \n",
       "                           True                        False                      False                         False                          False                  -0.544629   \n",
       "                           False                       False                      True                          False                          True                    0.053839   \n",
       " ...                                                                                                                                                                        ...   \n",
       "                                                       True                       False                         False                          False                  -0.794096   \n",
       "                                                                                                                                               False                  -0.126998   \n",
       "                                                       False                      False                         True                           False                   0.297847   \n",
       "                                                       True                       False                         False                          False                  -0.921316   \n",
       "                           True                        False                      False                         False                          False                   2.195318   \n",
       " \n",
       "                                                                                                                                                                 NewCreditCustomer  \\\n",
       " Education_Basic education Education_Primary education Education_Higher education Education_Secondary education Education_Vocational education Gender_Undefined                      \n",
       " False                     False                       False                      False                         True                           False                       0.88691   \n",
       "                                                       True                       False                         False                          False                      -1.12751   \n",
       "                                                                                                                                               True                        0.88691   \n",
       "                           True                        False                      False                         False                          False                       0.88691   \n",
       "                           False                       False                      True                          False                          True                        0.88691   \n",
       " ...                                                                                                                                                                           ...   \n",
       "                                                       True                       False                         False                          False                      -1.12751   \n",
       "                                                                                                                                               False                      -1.12751   \n",
       "                                                       False                      False                         True                           False                       0.88691   \n",
       "                                                       True                       False                         False                          False                      -1.12751   \n",
       "                           True                        False                      False                         False                          False                       0.88691   \n",
       " \n",
       "                                                                                                                                                                 NoOfPreviousLoansBeforeLoan  \n",
       " Education_Basic education Education_Primary education Education_Higher education Education_Secondary education Education_Vocational education Gender_Undefined                               \n",
       " False                     False                       False                      False                         True                           False                               -0.630933  \n",
       "                                                       True                       False                         False                          False                                0.178499  \n",
       "                                                                                                                                               True                                -0.630933  \n",
       "                           True                        False                      False                         False                          False                               -0.630933  \n",
       "                           False                       False                      True                          False                          True                                -0.630933  \n",
       " ...                                                                                                                                                                                     ...  \n",
       "                                                       True                       False                         False                          False                                7.463390  \n",
       "                                                                                                                                               False                               -0.226217  \n",
       "                                                       False                      False                         True                           False                               -0.630933  \n",
       "                                                       True                       False                         False                          False                                0.583215  \n",
       "                           True                        False                      False                         False                          False                               -0.630933  \n",
       " \n",
       " [217718 rows x 12 columns],\n",
       " Education_Basic education  Education_Primary education  Education_Higher education  Education_Secondary education  Education_Vocational education  Gender_Undefined\n",
       " False                      False                        False                       False                          True                            False               1\n",
       "                                                         True                        False                          False                           False               0\n",
       "                                                                                                                                                    True                1\n",
       "                            True                         False                       False                          False                           False               1\n",
       "                            False                        False                       True                           False                           True                0\n",
       "                                                                                                                                                                       ..\n",
       "                                                         True                        False                          False                           False               1\n",
       "                                                                                                                                                    False               0\n",
       "                                                         False                       False                          True                            False               1\n",
       "                                                         True                        False                          False                           False               1\n",
       "                            True                         False                       False                          False                           False               1\n",
       " Name: Default, Length: 217718, dtype: int64,\n",
       " array([0.94065134, 0.88925805, 0.6784022 , ..., 0.94065134, 1.2077653 ,\n",
       "        0.84151981]))"
      ]
     },
     "execution_count": 109,
     "metadata": {},
     "output_type": "execute_result"
    }
   ],
   "source": [
    "check_inputs(X_train, y_train, sample_weights, ensure_2d=True)"
   ]
  },
  {
   "cell_type": "code",
   "execution_count": 119,
   "metadata": {},
   "outputs": [
    {
     "ename": "ValueError",
     "evalue": "Expected 2 protected attribute groups, got 3",
     "output_type": "error",
     "traceback": [
      "\u001b[1;31m---------------------------------------------------------------------------\u001b[0m",
      "\u001b[1;31mValueError\u001b[0m                                Traceback (most recent call last)",
      "Cell \u001b[1;32mIn[119], line 1\u001b[0m\n\u001b[1;32m----> 1\u001b[0m \u001b[43mcheck_groups\u001b[49m\u001b[43m(\u001b[49m\u001b[43mX_train\u001b[49m\u001b[43m,\u001b[49m\u001b[43m \u001b[49m\u001b[43mprotected\u001b[49m\u001b[43m,\u001b[49m\u001b[43m \u001b[49m\u001b[43mensure_binary\u001b[49m\u001b[38;5;241;43m=\u001b[39;49m\u001b[38;5;28;43;01mTrue\u001b[39;49;00m\u001b[43m)\u001b[49m\n",
      "File \u001b[1;32mc:\\Users\\azegl\\anaconda3\\envs\\benv\\Lib\\site-packages\\aif360\\sklearn\\utils.py:97\u001b[0m, in \u001b[0;36mcheck_groups\u001b[1;34m(arr, prot_attr, ensure_binary)\u001b[0m\n\u001b[0;32m     95\u001b[0m n_unique \u001b[38;5;241m=\u001b[39m groups\u001b[38;5;241m.\u001b[39mnunique()\n\u001b[0;32m     96\u001b[0m \u001b[38;5;28;01mif\u001b[39;00m ensure_binary \u001b[38;5;129;01mand\u001b[39;00m n_unique \u001b[38;5;241m!=\u001b[39m \u001b[38;5;241m2\u001b[39m:\n\u001b[1;32m---> 97\u001b[0m     \u001b[38;5;28;01mraise\u001b[39;00m \u001b[38;5;167;01mValueError\u001b[39;00m(\u001b[38;5;124m\"\u001b[39m\u001b[38;5;124mExpected 2 protected attribute groups, got \u001b[39m\u001b[38;5;124m\"\u001b[39m\n\u001b[0;32m     98\u001b[0m                     \u001b[38;5;124mf\u001b[39m\u001b[38;5;124m\"\u001b[39m\u001b[38;5;132;01m{\u001b[39;00mgroups\u001b[38;5;241m.\u001b[39munique()\u001b[38;5;250m \u001b[39m\u001b[38;5;28;01mif\u001b[39;00m\u001b[38;5;250m \u001b[39mn_unique\u001b[38;5;250m \u001b[39m\u001b[38;5;241m>\u001b[39m\u001b[38;5;250m \u001b[39m\u001b[38;5;241m5\u001b[39m\u001b[38;5;250m \u001b[39m\u001b[38;5;28;01melse\u001b[39;00m\u001b[38;5;250m \u001b[39mn_unique\u001b[38;5;132;01m}\u001b[39;00m\u001b[38;5;124m\"\u001b[39m)\n\u001b[0;32m    100\u001b[0m \u001b[38;5;28;01mreturn\u001b[39;00m groups, prot_attr\n",
      "\u001b[1;31mValueError\u001b[0m: Expected 2 protected attribute groups, got 3"
     ]
    }
   ],
   "source": [
    "check_groups(X_train, protected, ensure_binary=True)"
   ]
  },
  {
   "cell_type": "markdown",
   "metadata": {},
   "source": [
    "## See if Reweighing cleared the bias on the dataset"
   ]
  },
  {
   "cell_type": "code",
   "execution_count": 9,
   "metadata": {},
   "outputs": [
    {
     "name": "stdout",
     "output_type": "stream",
     "text": [
      "Attribute Education_Basic education\n",
      "Statistical Parity Difference (SPD):\t\t\t-0.0000\n",
      "Disparate Impact (DI):\t\t\t\t\t1.0000\n",
      "Attribute Education_Primary education\n",
      "Statistical Parity Difference (SPD):\t\t\t-0.0000\n",
      "Disparate Impact (DI):\t\t\t\t\t1.0000\n"
     ]
    }
   ],
   "source": [
    "for p in protected:\n",
    "      print('Attribute', p)\n",
    "      print('Statistical Parity Difference (SPD):\\t\\t\\t%.4f' %\\\n",
    "            statistical_parity_difference(y_train, prot_attr=p,  priv_group=priv_group_dict[p], sample_weight=sample_weights))\n",
    "      print('Disparate Impact (DI):\\t\\t\\t\\t\\t%.4f' %\\\n",
    "            disparate_impact_ratio(y_train, prot_attr=p, priv_group=priv_group_dict[p], sample_weight=sample_weights))\n"
   ]
  },
  {
   "cell_type": "code",
   "execution_count": 10,
   "metadata": {},
   "outputs": [
    {
     "name": "stdout",
     "output_type": "stream",
     "text": [
      "Building estimator 1 of 50 for this parallel run (total 50)...\n",
      "Building estimator 2 of 50 for this parallel run (total 50)...\n",
      "Building estimator 3 of 50 for this parallel run (total 50)...\n",
      "Building estimator 4 of 50 for this parallel run (total 50)...\n",
      "Building estimator 5 of 50 for this parallel run (total 50)...\n",
      "Building estimator 6 of 50 for this parallel run (total 50)...\n",
      "Building estimator 7 of 50 for this parallel run (total 50)...\n",
      "Building estimator 8 of 50 for this parallel run (total 50)...\n",
      "Building estimator 9 of 50 for this parallel run (total 50)...\n",
      "Building estimator 10 of 50 for this parallel run (total 50)...\n",
      "Building estimator 11 of 50 for this parallel run (total 50)...\n",
      "Building estimator 12 of 50 for this parallel run (total 50)...\n",
      "Building estimator 13 of 50 for this parallel run (total 50)...\n",
      "Building estimator 14 of 50 for this parallel run (total 50)...\n",
      "Building estimator 15 of 50 for this parallel run (total 50)...\n",
      "Building estimator 16 of 50 for this parallel run (total 50)...\n",
      "Building estimator 17 of 50 for this parallel run (total 50)...\n",
      "Building estimator 18 of 50 for this parallel run (total 50)...\n",
      "Building estimator 19 of 50 for this parallel run (total 50)...\n",
      "Building estimator 20 of 50 for this parallel run (total 50)...\n",
      "Building estimator 21 of 50 for this parallel run (total 50)...\n",
      "Building estimator 22 of 50 for this parallel run (total 50)...\n",
      "Building estimator 23 of 50 for this parallel run (total 50)...\n",
      "Building estimator 24 of 50 for this parallel run (total 50)...\n",
      "Building estimator 25 of 50 for this parallel run (total 50)...\n",
      "Building estimator 26 of 50 for this parallel run (total 50)...\n",
      "Building estimator 27 of 50 for this parallel run (total 50)...\n",
      "Building estimator 28 of 50 for this parallel run (total 50)...\n",
      "Building estimator 29 of 50 for this parallel run (total 50)...\n",
      "Building estimator 30 of 50 for this parallel run (total 50)...\n",
      "Building estimator 31 of 50 for this parallel run (total 50)...\n",
      "Building estimator 32 of 50 for this parallel run (total 50)...\n",
      "Building estimator 33 of 50 for this parallel run (total 50)...\n",
      "Building estimator 34 of 50 for this parallel run (total 50)...\n",
      "Building estimator 35 of 50 for this parallel run (total 50)...\n",
      "Building estimator 36 of 50 for this parallel run (total 50)...\n",
      "Building estimator 37 of 50 for this parallel run (total 50)...\n",
      "Building estimator 38 of 50 for this parallel run (total 50)...\n",
      "Building estimator 39 of 50 for this parallel run (total 50)...\n",
      "Building estimator 40 of 50 for this parallel run (total 50)...\n",
      "Building estimator 41 of 50 for this parallel run (total 50)...\n",
      "Building estimator 42 of 50 for this parallel run (total 50)...\n",
      "Building estimator 43 of 50 for this parallel run (total 50)...\n",
      "Building estimator 44 of 50 for this parallel run (total 50)...\n",
      "Building estimator 45 of 50 for this parallel run (total 50)...\n",
      "Building estimator 46 of 50 for this parallel run (total 50)...\n",
      "Building estimator 47 of 50 for this parallel run (total 50)...\n",
      "Building estimator 48 of 50 for this parallel run (total 50)...\n",
      "Building estimator 49 of 50 for this parallel run (total 50)...\n",
      "Building estimator 50 of 50 for this parallel run (total 50)...\n",
      "Out:  0.6587160514240833\n",
      "In:  0.9649546661277433\n"
     ]
    }
   ],
   "source": [
    "BAG = BaggingClassifier(n_estimators=50, estimator=RandomForestClassifier(n_estimators=25, max_depth=35,random_state=42), random_state=42, warm_start=True, verbose=2)\n",
    "\n",
    "BAG.fit(X_train, y_train, sample_weight=sample_weights)\n",
    "print(\"Out: \",accuracy_score(y_test, BAG.predict(X_test)))\n",
    "print(\"In: \",accuracy_score(y_train, BAG.predict(X_train)))\n"
   ]
  },
  {
   "cell_type": "code",
   "execution_count": 11,
   "metadata": {},
   "outputs": [],
   "source": [
    "y_pred = BAG.predict(X_test)"
   ]
  },
  {
   "cell_type": "code",
   "execution_count": 12,
   "metadata": {},
   "outputs": [
    {
     "name": "stdout",
     "output_type": "stream",
     "text": [
      "Classification Report:\n",
      "               precision    recall  f1-score   support\n",
      "\n",
      "           0       0.69      0.75      0.72     14033\n",
      "           1       0.61      0.54      0.57     10158\n",
      "\n",
      "    accuracy                           0.66     24191\n",
      "   macro avg       0.65      0.64      0.64     24191\n",
      "weighted avg       0.65      0.66      0.66     24191\n",
      "\n"
     ]
    }
   ],
   "source": [
    "# Generate a classification report\n",
    "class_report = classification_report(y_test, y_pred)\n",
    "print(\"Classification Report:\\n\", class_report)"
   ]
  },
  {
   "cell_type": "code",
   "execution_count": 13,
   "metadata": {},
   "outputs": [
    {
     "name": "stdout",
     "output_type": "stream",
     "text": [
      "[1 1 2 ... 1 0 1]\n"
     ]
    }
   ],
   "source": [
    "y_test_np = y_test.to_numpy()\n",
    "\n",
    "b = np.array([y_pred[i] - y_test_np[i] + 1 for i in range(len(y_pred) - 1)])\n",
    "\n",
    "print(b)"
   ]
  },
  {
   "cell_type": "code",
   "execution_count": 14,
   "metadata": {},
   "outputs": [
    {
     "name": "stdout",
     "output_type": "stream",
     "text": [
      "Education_Basic education\n",
      "Education_Primary education\n"
     ]
    }
   ],
   "source": [
    "SPD = []\n",
    "DI = []\n",
    "EqualOpp = []\n",
    "AverageOdds = []\n",
    "GEI = []\n",
    "Theil = []\n",
    "\n",
    "for attr in protected:\n",
    "    print(attr)\n",
    "    spd_score = statistical_parity_difference(y_test, y_pred, prot_attr=attr, priv_group=priv_group_dict[attr])\n",
    "    SPD.append(spd_score)\n",
    "    di_score = disparate_impact_ratio(y_test, y_pred, prot_attr=attr, priv_group=priv_group_dict[attr])\n",
    "    DI.append(di_score)\n",
    "    equalopp = equal_opportunity_difference(y_test, y_pred, prot_attr=attr, priv_group=priv_group_dict[attr])\n",
    "    EqualOpp.append(equalopp)\n",
    "    averageodd = average_odds_difference(y_test, y_pred, prot_attr=attr, priv_group=priv_group_dict[attr])\n",
    "    AverageOdds.append(averageodd)\n",
    "    gei = generalized_entropy_index(b=b, alpha=2)\n",
    "    GEI.append(gei)\n",
    "    theil = generalized_entropy_index(b=b, alpha=1)\n",
    "    Theil.append(theil)\n",
    "\n",
    "\n",
    "df_bias = pd.DataFrame({'Protected_feature':protected,'Statistical_Parity':SPD,'Disparate_Impact':DI, 'Equal Opportunity difference':EqualOpp, 'Equalized Odds difference': AverageOdds, 'GEI':GEI, 'Theil':Theil})\n",
    "df_bias['DI_normal']=df_bias[\"Disparate_Impact\"].apply(lambda x: 1/x if x < 1 else x)\n",
    "df_bias['SPD_normal']=df_bias[\"Statistical_Parity\"].apply(lambda x: abs(x) if x < 0 else x)\n",
    "df_bias['EoppD_normal']=df_bias[\"Equal Opportunity difference\"].apply(lambda x: abs(x) if x < 0 else x)\n",
    "df_bias['EoddsD_normal']=df_bias[\"Equalized Odds difference\"].apply(lambda x: abs(x) if x < 0 else x)"
   ]
  },
  {
   "cell_type": "code",
   "execution_count": 15,
   "metadata": {},
   "outputs": [
    {
     "data": {
      "text/html": [
       "<div>\n",
       "<style scoped>\n",
       "    .dataframe tbody tr th:only-of-type {\n",
       "        vertical-align: middle;\n",
       "    }\n",
       "\n",
       "    .dataframe tbody tr th {\n",
       "        vertical-align: top;\n",
       "    }\n",
       "\n",
       "    .dataframe thead th {\n",
       "        text-align: right;\n",
       "    }\n",
       "</style>\n",
       "<table border=\"1\" class=\"dataframe\">\n",
       "  <thead>\n",
       "    <tr style=\"text-align: right;\">\n",
       "      <th></th>\n",
       "      <th>Protected_feature</th>\n",
       "      <th>DI_normal</th>\n",
       "      <th>SPD_normal</th>\n",
       "      <th>EoppD_normal</th>\n",
       "      <th>EoddsD_normal</th>\n",
       "      <th>GEI</th>\n",
       "      <th>Theil</th>\n",
       "    </tr>\n",
       "  </thead>\n",
       "  <tbody>\n",
       "    <tr>\n",
       "      <th>0</th>\n",
       "      <td>Education_Basic education</td>\n",
       "      <td>1.892004</td>\n",
       "      <td>0.176685</td>\n",
       "      <td>0.071071</td>\n",
       "      <td>0.115803</td>\n",
       "      <td>0.187342</td>\n",
       "      <td>0.263256</td>\n",
       "    </tr>\n",
       "    <tr>\n",
       "      <th>1</th>\n",
       "      <td>Education_Primary education</td>\n",
       "      <td>1.235711</td>\n",
       "      <td>0.084931</td>\n",
       "      <td>0.034854</td>\n",
       "      <td>0.055623</td>\n",
       "      <td>0.187342</td>\n",
       "      <td>0.263256</td>\n",
       "    </tr>\n",
       "  </tbody>\n",
       "</table>\n",
       "</div>"
      ],
      "text/plain": [
       "             Protected_feature  DI_normal  SPD_normal  EoppD_normal  \\\n",
       "0    Education_Basic education   1.892004    0.176685      0.071071   \n",
       "1  Education_Primary education   1.235711    0.084931      0.034854   \n",
       "\n",
       "   EoddsD_normal       GEI     Theil  \n",
       "0       0.115803  0.187342  0.263256  \n",
       "1       0.055623  0.187342  0.263256  "
      ]
     },
     "execution_count": 15,
     "metadata": {},
     "output_type": "execute_result"
    }
   ],
   "source": [
    "df_bias.loc[:,['Protected_feature', 'DI_normal', 'SPD_normal', 'EoppD_normal', 'EoddsD_normal', 'GEI', 'Theil']].head(10)"
   ]
  },
  {
   "cell_type": "markdown",
   "metadata": {},
   "source": [
    "## Initialize model"
   ]
  },
  {
   "cell_type": "code",
   "execution_count": 16,
   "metadata": {},
   "outputs": [
    {
     "data": {
      "text/plain": [
       "pandas.core.frame.DataFrame"
      ]
     },
     "execution_count": 16,
     "metadata": {},
     "output_type": "execute_result"
    }
   ],
   "source": [
    "type(X_train)"
   ]
  },
  {
   "cell_type": "code",
   "execution_count": 47,
   "metadata": {},
   "outputs": [],
   "source": []
  },
  {
   "cell_type": "code",
   "execution_count": 57,
   "metadata": {},
   "outputs": [
    {
     "name": "stdout",
     "output_type": "stream",
     "text": [
      "Building estimator 1 of 5 for this parallel run (total 5)...\n",
      "Building estimator 2 of 5 for this parallel run (total 5)...\n",
      "Building estimator 3 of 5 for this parallel run (total 5)...\n",
      "Building estimator 4 of 5 for this parallel run (total 5)...\n",
      "Building estimator 5 of 5 for this parallel run (total 5)...\n"
     ]
    },
    {
     "ename": "ValueError",
     "evalue": "Expected 2 protected attribute groups, got 3",
     "output_type": "error",
     "traceback": [
      "\u001b[1;31m---------------------------------------------------------------------------\u001b[0m",
      "\u001b[1;31mValueError\u001b[0m                                Traceback (most recent call last)",
      "Cell \u001b[1;32mIn[57], line 6\u001b[0m\n\u001b[0;32m      1\u001b[0m ROC \u001b[38;5;241m=\u001b[39m RejectOptionClassifier(prot_attr\u001b[38;5;241m=\u001b[39mprotected, threshold\u001b[38;5;241m=\u001b[39m\u001b[38;5;241m0.1\u001b[39m, margin\u001b[38;5;241m=\u001b[39m\u001b[38;5;241m0.1\u001b[39m)\n\u001b[0;32m      3\u001b[0m postproc \u001b[38;5;241m=\u001b[39m PostProcessingMeta(estimator\u001b[38;5;241m=\u001b[39mBaggingClassifier(n_estimators\u001b[38;5;241m=\u001b[39m\u001b[38;5;241m5\u001b[39m, estimator\u001b[38;5;241m=\u001b[39mRandomForestClassifier(n_estimators\u001b[38;5;241m=\u001b[39m\u001b[38;5;241m25\u001b[39m, max_depth\u001b[38;5;241m=\u001b[39m\u001b[38;5;241m35\u001b[39m,random_state\u001b[38;5;241m=\u001b[39m\u001b[38;5;241m42\u001b[39m), random_state\u001b[38;5;241m=\u001b[39m\u001b[38;5;241m42\u001b[39m, warm_start\u001b[38;5;241m=\u001b[39m\u001b[38;5;28;01mTrue\u001b[39;00m, verbose\u001b[38;5;241m=\u001b[39m\u001b[38;5;241m2\u001b[39m), \n\u001b[0;32m      4\u001b[0m                               postprocessor\u001b[38;5;241m=\u001b[39mROC, random_state\u001b[38;5;241m=\u001b[39m\u001b[38;5;241m42\u001b[39m, val_size\u001b[38;5;241m=\u001b[39m\u001b[38;5;241m0.1\u001b[39m)\n\u001b[1;32m----> 6\u001b[0m \u001b[43mpostproc\u001b[49m\u001b[38;5;241;43m.\u001b[39;49m\u001b[43mfit\u001b[49m\u001b[43m(\u001b[49m\u001b[43mX_train\u001b[49m\u001b[43m,\u001b[49m\u001b[43m \u001b[49m\u001b[43my_train\u001b[49m\u001b[43m)\u001b[49m\n\u001b[0;32m      7\u001b[0m \u001b[38;5;28mprint\u001b[39m(\u001b[38;5;124m\"\u001b[39m\u001b[38;5;124mOut: \u001b[39m\u001b[38;5;124m\"\u001b[39m,accuracy_score(y_test, postproc\u001b[38;5;241m.\u001b[39mpredict(X_test)))\n\u001b[0;32m      8\u001b[0m \u001b[38;5;28mprint\u001b[39m(\u001b[38;5;124m\"\u001b[39m\u001b[38;5;124mIn: \u001b[39m\u001b[38;5;124m\"\u001b[39m,accuracy_score(y_train, postproc\u001b[38;5;241m.\u001b[39mpredict(X_train)))\n",
      "File \u001b[1;32mc:\\Users\\azegl\\anaconda3\\envs\\benv\\Lib\\site-packages\\aif360\\sklearn\\postprocessing\\__init__.py:130\u001b[0m, in \u001b[0;36mPostProcessingMeta.fit\u001b[1;34m(self, X, y, sample_weight, **fit_params)\u001b[0m\n\u001b[0;32m    128\u001b[0m fit_params \u001b[38;5;241m=\u001b[39m fit_params\u001b[38;5;241m.\u001b[39mcopy()\n\u001b[0;32m    129\u001b[0m fit_params\u001b[38;5;241m.\u001b[39mupdate(labels\u001b[38;5;241m=\u001b[39m\u001b[38;5;28mself\u001b[39m\u001b[38;5;241m.\u001b[39mestimator_\u001b[38;5;241m.\u001b[39mclasses_)\n\u001b[1;32m--> 130\u001b[0m \u001b[38;5;28;43mself\u001b[39;49m\u001b[38;5;241;43m.\u001b[39;49m\u001b[43mpostprocessor_\u001b[49m\u001b[38;5;241;43m.\u001b[39;49m\u001b[43mfit\u001b[49m\u001b[43m(\u001b[49m\u001b[43my_score\u001b[49m\u001b[43m,\u001b[49m\u001b[43m \u001b[49m\u001b[43my_post\u001b[49m\u001b[43m,\u001b[49m\u001b[43m \u001b[49m\u001b[43msample_weight\u001b[49m\u001b[38;5;241;43m=\u001b[39;49m\u001b[43msw_post\u001b[49m\n\u001b[0;32m    131\u001b[0m \u001b[43m                        \u001b[49m\u001b[38;5;28;43;01mif\u001b[39;49;00m\u001b[43m \u001b[49m\u001b[43msample_weight\u001b[49m\u001b[43m \u001b[49m\u001b[38;5;129;43;01mis\u001b[39;49;00m\u001b[43m \u001b[49m\u001b[38;5;129;43;01mnot\u001b[39;49;00m\u001b[43m \u001b[49m\u001b[38;5;28;43;01mNone\u001b[39;49;00m\u001b[43m \u001b[49m\u001b[38;5;28;43;01melse\u001b[39;49;00m\u001b[43m \u001b[49m\u001b[38;5;28;43;01mNone\u001b[39;49;00m\u001b[43m,\u001b[49m\n\u001b[0;32m    132\u001b[0m \u001b[43m                        \u001b[49m\u001b[38;5;241;43m*\u001b[39;49m\u001b[38;5;241;43m*\u001b[39;49m\u001b[43mfit_params\u001b[49m\u001b[43m)\u001b[49m\n\u001b[0;32m    133\u001b[0m \u001b[38;5;28;01mreturn\u001b[39;00m \u001b[38;5;28mself\u001b[39m\n",
      "File \u001b[1;32mc:\\Users\\azegl\\anaconda3\\envs\\benv\\Lib\\site-packages\\aif360\\sklearn\\postprocessing\\reject_option_classification.py:116\u001b[0m, in \u001b[0;36mRejectOptionClassifier.fit\u001b[1;34m(self, X, y, labels, pos_label, priv_group, sample_weight)\u001b[0m\n\u001b[0;32m     98\u001b[0m \u001b[38;5;250m\u001b[39m\u001b[38;5;124;03m\"\"\"This is essentially a no-op; it simply validates the inputs and\u001b[39;00m\n\u001b[0;32m     99\u001b[0m \u001b[38;5;124;03mstores them for predict.\u001b[39;00m\n\u001b[0;32m    100\u001b[0m \n\u001b[1;32m   (...)\u001b[0m\n\u001b[0;32m    113\u001b[0m \u001b[38;5;124;03m    self\u001b[39;00m\n\u001b[0;32m    114\u001b[0m \u001b[38;5;124;03m\"\"\"\u001b[39;00m\n\u001b[0;32m    115\u001b[0m \u001b[38;5;28;01mtry\u001b[39;00m:\n\u001b[1;32m--> 116\u001b[0m     groups, \u001b[38;5;28mself\u001b[39m\u001b[38;5;241m.\u001b[39mprot_attr_ \u001b[38;5;241m=\u001b[39m \u001b[43mcheck_groups\u001b[49m\u001b[43m(\u001b[49m\u001b[43mX\u001b[49m\u001b[43m,\u001b[49m\u001b[43m \u001b[49m\u001b[38;5;28;43mself\u001b[39;49m\u001b[38;5;241;43m.\u001b[39;49m\u001b[43mprot_attr\u001b[49m\u001b[43m,\u001b[49m\n\u001b[0;32m    117\u001b[0m \u001b[43m                                           \u001b[49m\u001b[43mensure_binary\u001b[49m\u001b[38;5;241;43m=\u001b[39;49m\u001b[38;5;28;43;01mTrue\u001b[39;49;00m\u001b[43m)\u001b[49m\n\u001b[0;32m    118\u001b[0m \u001b[38;5;28;01mexcept\u001b[39;00m \u001b[38;5;167;01mTypeError\u001b[39;00m:\n\u001b[0;32m    119\u001b[0m     groups, \u001b[38;5;28mself\u001b[39m\u001b[38;5;241m.\u001b[39mprot_attr_ \u001b[38;5;241m=\u001b[39m check_groups(y, \u001b[38;5;28mself\u001b[39m\u001b[38;5;241m.\u001b[39mprot_attr,\n\u001b[0;32m    120\u001b[0m                                            ensure_binary\u001b[38;5;241m=\u001b[39m\u001b[38;5;28;01mTrue\u001b[39;00m)\n",
      "File \u001b[1;32mc:\\Users\\azegl\\anaconda3\\envs\\benv\\Lib\\site-packages\\aif360\\sklearn\\utils.py:97\u001b[0m, in \u001b[0;36mcheck_groups\u001b[1;34m(arr, prot_attr, ensure_binary)\u001b[0m\n\u001b[0;32m     95\u001b[0m n_unique \u001b[38;5;241m=\u001b[39m groups\u001b[38;5;241m.\u001b[39mnunique()\n\u001b[0;32m     96\u001b[0m \u001b[38;5;28;01mif\u001b[39;00m ensure_binary \u001b[38;5;129;01mand\u001b[39;00m n_unique \u001b[38;5;241m!=\u001b[39m \u001b[38;5;241m2\u001b[39m:\n\u001b[1;32m---> 97\u001b[0m     \u001b[38;5;28;01mraise\u001b[39;00m \u001b[38;5;167;01mValueError\u001b[39;00m(\u001b[38;5;124m\"\u001b[39m\u001b[38;5;124mExpected 2 protected attribute groups, got \u001b[39m\u001b[38;5;124m\"\u001b[39m\n\u001b[0;32m     98\u001b[0m                     \u001b[38;5;124mf\u001b[39m\u001b[38;5;124m\"\u001b[39m\u001b[38;5;132;01m{\u001b[39;00mgroups\u001b[38;5;241m.\u001b[39munique()\u001b[38;5;250m \u001b[39m\u001b[38;5;28;01mif\u001b[39;00m\u001b[38;5;250m \u001b[39mn_unique\u001b[38;5;250m \u001b[39m\u001b[38;5;241m>\u001b[39m\u001b[38;5;250m \u001b[39m\u001b[38;5;241m5\u001b[39m\u001b[38;5;250m \u001b[39m\u001b[38;5;28;01melse\u001b[39;00m\u001b[38;5;250m \u001b[39mn_unique\u001b[38;5;132;01m}\u001b[39;00m\u001b[38;5;124m\"\u001b[39m)\n\u001b[0;32m    100\u001b[0m \u001b[38;5;28;01mreturn\u001b[39;00m groups, prot_attr\n",
      "\u001b[1;31mValueError\u001b[0m: Expected 2 protected attribute groups, got 3"
     ]
    }
   ],
   "source": [
    "ROC = RejectOptionClassifier(prot_attr=protected, threshold=0.1, margin=0.1)\n",
    "\n",
    "postproc = PostProcessingMeta(estimator=BaggingClassifier(n_estimators=5, estimator=RandomForestClassifier(n_estimators=25, max_depth=35,random_state=42), random_state=42, warm_start=True, verbose=2), \n",
    "                              postprocessor=ROC, random_state=42, val_size=0.1)\n",
    "\n",
    "postproc.fit(X_train, y_train)\n",
    "print(\"Out: \",accuracy_score(y_test, postproc.predict(X_test)))\n",
    "print(\"In: \",accuracy_score(y_train, postproc.predict(X_train)))\n"
   ]
  },
  {
   "cell_type": "code",
   "execution_count": 82,
   "metadata": {},
   "outputs": [
    {
     "ename": "ValueError",
     "evalue": "X should contain one column per class. Got: 12 columns.",
     "output_type": "error",
     "traceback": [
      "\u001b[1;31m---------------------------------------------------------------------------\u001b[0m",
      "\u001b[1;31mValueError\u001b[0m                                Traceback (most recent call last)",
      "Cell \u001b[1;32mIn[82], line 4\u001b[0m\n\u001b[0;32m      1\u001b[0m ROC \u001b[38;5;241m=\u001b[39m RejectOptionClassifier(prot_attr\u001b[38;5;241m=\u001b[39m[\u001b[38;5;124m'\u001b[39m\u001b[38;5;124mEducation_Basic education\u001b[39m\u001b[38;5;124m'\u001b[39m], threshold\u001b[38;5;241m=\u001b[39m\u001b[38;5;241m0.1\u001b[39m, margin\u001b[38;5;241m=\u001b[39m\u001b[38;5;241m0.1\u001b[39m)\n\u001b[0;32m      3\u001b[0m ROC\u001b[38;5;241m.\u001b[39mfit(X_train, y_train)\n\u001b[1;32m----> 4\u001b[0m \u001b[38;5;28mprint\u001b[39m(\u001b[38;5;124m\"\u001b[39m\u001b[38;5;124mOut: \u001b[39m\u001b[38;5;124m\"\u001b[39m,accuracy_score(y_test, \u001b[43mROC\u001b[49m\u001b[38;5;241;43m.\u001b[39;49m\u001b[43mpredict\u001b[49m\u001b[43m(\u001b[49m\u001b[43mX_test\u001b[49m\u001b[43m)\u001b[49m))\n\u001b[0;32m      5\u001b[0m \u001b[38;5;28mprint\u001b[39m(\u001b[38;5;124m\"\u001b[39m\u001b[38;5;124mIn: \u001b[39m\u001b[38;5;124m\"\u001b[39m,accuracy_score(y_train, ROC\u001b[38;5;241m.\u001b[39mpredict(X_train)))\n",
      "File \u001b[1;32mc:\\Users\\azegl\\anaconda3\\envs\\benv\\Lib\\site-packages\\aif360\\sklearn\\postprocessing\\reject_option_classification.py:195\u001b[0m, in \u001b[0;36mRejectOptionClassifier.predict\u001b[1;34m(self, X)\u001b[0m\n\u001b[0;32m    184\u001b[0m \u001b[38;5;28;01mdef\u001b[39;00m \u001b[38;5;21mpredict\u001b[39m(\u001b[38;5;28mself\u001b[39m, X):\n\u001b[0;32m    185\u001b[0m \u001b[38;5;250m    \u001b[39m\u001b[38;5;124;03m\"\"\"Predict class labels for the given scores.\u001b[39;00m\n\u001b[0;32m    186\u001b[0m \n\u001b[0;32m    187\u001b[0m \u001b[38;5;124;03m    Args:\u001b[39;00m\n\u001b[1;32m   (...)\u001b[0m\n\u001b[0;32m    193\u001b[0m \u001b[38;5;124;03m        numpy.ndarray: Predicted class label per sample.\u001b[39;00m\n\u001b[0;32m    194\u001b[0m \u001b[38;5;124;03m    \"\"\"\u001b[39;00m\n\u001b[1;32m--> 195\u001b[0m     scores \u001b[38;5;241m=\u001b[39m \u001b[38;5;28;43mself\u001b[39;49m\u001b[38;5;241;43m.\u001b[39;49m\u001b[43mpredict_proba\u001b[49m\u001b[43m(\u001b[49m\u001b[43mX\u001b[49m\u001b[43m)\u001b[49m\n\u001b[0;32m    196\u001b[0m     pos_idx \u001b[38;5;241m=\u001b[39m np\u001b[38;5;241m.\u001b[39mnonzero(\u001b[38;5;28mself\u001b[39m\u001b[38;5;241m.\u001b[39mclasses_ \u001b[38;5;241m==\u001b[39m \u001b[38;5;28mself\u001b[39m\u001b[38;5;241m.\u001b[39mpos_label_)[\u001b[38;5;241m0\u001b[39m][\u001b[38;5;241m0\u001b[39m]\n\u001b[0;32m    197\u001b[0m     y_pred \u001b[38;5;241m=\u001b[39m (scores[:, pos_idx] \u001b[38;5;241m>\u001b[39m \u001b[38;5;28mself\u001b[39m\u001b[38;5;241m.\u001b[39mthreshold)\u001b[38;5;241m.\u001b[39mastype(\u001b[38;5;28mint\u001b[39m)\n",
      "File \u001b[1;32mc:\\Users\\azegl\\anaconda3\\envs\\benv\\Lib\\site-packages\\aif360\\sklearn\\postprocessing\\reject_option_classification.py:167\u001b[0m, in \u001b[0;36mRejectOptionClassifier.predict_proba\u001b[1;34m(self, X)\u001b[0m\n\u001b[0;32m    165\u001b[0m groups, _ \u001b[38;5;241m=\u001b[39m check_groups(X, \u001b[38;5;28mself\u001b[39m\u001b[38;5;241m.\u001b[39mprot_attr_)\n\u001b[0;32m    166\u001b[0m \u001b[38;5;28;01mif\u001b[39;00m \u001b[38;5;28mlen\u001b[39m(\u001b[38;5;28mself\u001b[39m\u001b[38;5;241m.\u001b[39mclasses_) \u001b[38;5;241m!=\u001b[39m X\u001b[38;5;241m.\u001b[39mshape[\u001b[38;5;241m1\u001b[39m]:\n\u001b[1;32m--> 167\u001b[0m     \u001b[38;5;28;01mraise\u001b[39;00m \u001b[38;5;167;01mValueError\u001b[39;00m(\u001b[38;5;124m'\u001b[39m\u001b[38;5;124mX should contain one column per class. Got: \u001b[39m\u001b[38;5;132;01m{}\u001b[39;00m\u001b[38;5;124m \u001b[39m\u001b[38;5;124m'\u001b[39m\n\u001b[0;32m    168\u001b[0m                      \u001b[38;5;124m'\u001b[39m\u001b[38;5;124mcolumns.\u001b[39m\u001b[38;5;124m'\u001b[39m\u001b[38;5;241m.\u001b[39mformat(X\u001b[38;5;241m.\u001b[39mshape[\u001b[38;5;241m1\u001b[39m]))\n\u001b[0;32m    170\u001b[0m pos_idx \u001b[38;5;241m=\u001b[39m np\u001b[38;5;241m.\u001b[39mnonzero(\u001b[38;5;28mself\u001b[39m\u001b[38;5;241m.\u001b[39mclasses_ \u001b[38;5;241m==\u001b[39m \u001b[38;5;28mself\u001b[39m\u001b[38;5;241m.\u001b[39mpos_label_)[\u001b[38;5;241m0\u001b[39m][\u001b[38;5;241m0\u001b[39m]\n\u001b[0;32m    171\u001b[0m yt \u001b[38;5;241m=\u001b[39m X\u001b[38;5;241m.\u001b[39miloc[:, pos_idx]\u001b[38;5;241m.\u001b[39mto_numpy()\u001b[38;5;241m.\u001b[39mcopy()\n",
      "\u001b[1;31mValueError\u001b[0m: X should contain one column per class. Got: 12 columns."
     ]
    }
   ],
   "source": [
    "ROC = RejectOptionClassifier(prot_attr=['Education_Basic education'], threshold=0.1, margin=0.1)\n",
    "\n",
    "ROC.fit(X_train, y_train)\n",
    "print(\"Out: \",accuracy_score(y_test, ROC.predict(X_test)))\n",
    "print(\"In: \",accuracy_score(y_train, ROC.predict(X_train)))"
   ]
  },
  {
   "cell_type": "code",
   "execution_count": 106,
   "metadata": {},
   "outputs": [],
   "source": [
    "def check_groups(arr, prot_attr, ensure_binary=False):\n",
    "    \"\"\"Get groups from the index of arr.\n",
    "\n",
    "    If there are multiple protected attributes provided, the index is flattened\n",
    "    to be a 1-D Index of tuples. If ensure_binary is ``True``, raises a\n",
    "    ValueError if there are not exactly two unique groups. Also checks that all\n",
    "    provided protected attributes are in the index.\n",
    "\n",
    "    Args:\n",
    "        arr (array-like): Either a Pandas object containing protected attribute\n",
    "            information in the index or array-like with explicit protected\n",
    "            attribute array(s) for `prot_attr`.\n",
    "        prot_attr (label or array-like or list of labels/arrays): Protected\n",
    "            attribute(s). If contains labels, arr must include these in its\n",
    "            index. If ``None``, all protected attributes in ``arr.index`` are\n",
    "            used. Can also be 1D array-like of the same length as arr or a\n",
    "            list of a combination of such arrays and labels in which case, arr\n",
    "            may not necessarily be a Pandas type.\n",
    "        ensure_binary (bool): Raise an error if the resultant groups are not\n",
    "            binary.\n",
    "\n",
    "    Returns:\n",
    "        tuple:\n",
    "\n",
    "            * **groups** (:class:`pandas.Index`) -- Label (or tuple of labels)\n",
    "              of protected attribute for each sample in arr.\n",
    "            * **prot_attr** (`FrozenList`) -- Modified input. If input is a\n",
    "              single label, returns single-item list. If input is ``None``\n",
    "              returns list of all protected attributes.\n",
    "    \"\"\"\n",
    "    arr_is_pandas = isinstance(arr, (pd.DataFrame, pd.Series))\n",
    "    if prot_attr is None:  # use all protected attributes provided in arr\n",
    "        if not arr_is_pandas:\n",
    "            raise TypeError(\"Expected `Series` or `DataFrame` for arr, got \"\n",
    "                           f\"{type(arr).__name__} instead. Otherwise, pass \"\n",
    "                            \"explicit prot_attr array(s).\")\n",
    "        groups = arr.index\n",
    "    elif arr_is_pandas:\n",
    "        df = arr.index.to_frame()\n",
    "        groups = df.set_index(prot_attr).index  # let pandas handle errors\n",
    "    else:  # arr isn't pandas. might be okay if prot_attr is array-like\n",
    "        df = pd.DataFrame(index=[None]*len(arr))  # dummy to check lengths match\n",
    "        try:\n",
    "            groups = df.set_index(prot_attr).index\n",
    "        except KeyError as e:\n",
    "            raise TypeError(\"arr does not include protected attributes in the \"\n",
    "                            \"index. Check if this got dropped or prot_attr is \"\n",
    "                            \"formatted incorrectly.\") from e\n",
    "    prot_attr = groups.names\n",
    "    groups = groups.to_flat_index()\n",
    "    print(groups)\n",
    "\n",
    "    n_unique = groups.nunique()\n",
    "    if ensure_binary and n_unique != 2:\n",
    "        raise ValueError(\"Expected 2 protected attribute groups, got \"\n",
    "                        f\"{groups.unique() if n_unique > 5 else n_unique}\")\n",
    "                        \n",
    "\n",
    "    return groups, prot_attr"
   ]
  },
  {
   "cell_type": "code",
   "execution_count": 107,
   "metadata": {},
   "outputs": [
    {
     "name": "stdout",
     "output_type": "stream",
     "text": [
      "Index([(False, False), (False, False), (False, False),  (False, True),\n",
      "       (False, False), (False, False),  (False, True), (False, False),\n",
      "       (False, False), (False, False),\n",
      "       ...\n",
      "       (False, False), (False, False),  (True, False), (False, False),\n",
      "       (False, False), (False, False), (False, False), (False, False),\n",
      "       (False, False),  (False, True)],\n",
      "      dtype='object', length=217718)\n"
     ]
    },
    {
     "ename": "ValueError",
     "evalue": "Expected 2 protected attribute groups, got 3",
     "output_type": "error",
     "traceback": [
      "\u001b[1;31m---------------------------------------------------------------------------\u001b[0m",
      "\u001b[1;31mValueError\u001b[0m                                Traceback (most recent call last)",
      "Cell \u001b[1;32mIn[107], line 1\u001b[0m\n\u001b[1;32m----> 1\u001b[0m \u001b[43mcheck_groups\u001b[49m\u001b[43m(\u001b[49m\u001b[43mX_train\u001b[49m\u001b[43m,\u001b[49m\u001b[43m \u001b[49m\u001b[43mprotected\u001b[49m\u001b[43m,\u001b[49m\u001b[43m \u001b[49m\u001b[43mensure_binary\u001b[49m\u001b[38;5;241;43m=\u001b[39;49m\u001b[38;5;28;43;01mTrue\u001b[39;49;00m\u001b[43m)\u001b[49m\n",
      "Cell \u001b[1;32mIn[106], line 55\u001b[0m, in \u001b[0;36mcheck_groups\u001b[1;34m(arr, prot_attr, ensure_binary)\u001b[0m\n\u001b[0;32m     53\u001b[0m n_unique \u001b[38;5;241m=\u001b[39m groups\u001b[38;5;241m.\u001b[39mnunique()\n\u001b[0;32m     54\u001b[0m \u001b[38;5;28;01mif\u001b[39;00m ensure_binary \u001b[38;5;129;01mand\u001b[39;00m n_unique \u001b[38;5;241m!=\u001b[39m \u001b[38;5;241m2\u001b[39m:\n\u001b[1;32m---> 55\u001b[0m     \u001b[38;5;28;01mraise\u001b[39;00m \u001b[38;5;167;01mValueError\u001b[39;00m(\u001b[38;5;124m\"\u001b[39m\u001b[38;5;124mExpected 2 protected attribute groups, got \u001b[39m\u001b[38;5;124m\"\u001b[39m\n\u001b[0;32m     56\u001b[0m                     \u001b[38;5;124mf\u001b[39m\u001b[38;5;124m\"\u001b[39m\u001b[38;5;132;01m{\u001b[39;00mgroups\u001b[38;5;241m.\u001b[39munique()\u001b[38;5;250m \u001b[39m\u001b[38;5;28;01mif\u001b[39;00m\u001b[38;5;250m \u001b[39mn_unique\u001b[38;5;250m \u001b[39m\u001b[38;5;241m>\u001b[39m\u001b[38;5;250m \u001b[39m\u001b[38;5;241m5\u001b[39m\u001b[38;5;250m \u001b[39m\u001b[38;5;28;01melse\u001b[39;00m\u001b[38;5;250m \u001b[39mn_unique\u001b[38;5;132;01m}\u001b[39;00m\u001b[38;5;124m\"\u001b[39m)\n\u001b[0;32m     59\u001b[0m \u001b[38;5;28;01mreturn\u001b[39;00m groups, prot_attr\n",
      "\u001b[1;31mValueError\u001b[0m: Expected 2 protected attribute groups, got 3"
     ]
    }
   ],
   "source": [
    "check_groups(X_train, protected, ensure_binary=True)"
   ]
  },
  {
   "cell_type": "code",
   "execution_count": null,
   "metadata": {},
   "outputs": [],
   "source": [
    "y_pred = postproc.predict(X_test)"
   ]
  },
  {
   "cell_type": "code",
   "execution_count": null,
   "metadata": {},
   "outputs": [
    {
     "name": "stdout",
     "output_type": "stream",
     "text": [
      "Classification Report:\n",
      "               precision    recall  f1-score   support\n",
      "\n",
      "           0       0.53      0.00      0.00     14033\n",
      "           1       0.42      1.00      0.59     10158\n",
      "\n",
      "    accuracy                           0.42     24191\n",
      "   macro avg       0.47      0.50      0.30     24191\n",
      "weighted avg       0.48      0.42      0.25     24191\n",
      "\n"
     ]
    }
   ],
   "source": [
    "# Generate a classification report\n",
    "class_report = classification_report(y_test, y_pred)\n",
    "print(\"Classification Report:\\n\", class_report)"
   ]
  },
  {
   "cell_type": "code",
   "execution_count": null,
   "metadata": {},
   "outputs": [
    {
     "name": "stdout",
     "output_type": "stream",
     "text": [
      "[2 2 2 ... 1 1 2]\n"
     ]
    }
   ],
   "source": [
    "y_test_np = y_test.to_numpy()\n",
    "\n",
    "b = np.array([y_pred[i] - y_test_np[i] + 1 for i in range(len(y_pred) - 1)])\n",
    "\n",
    "print(b)"
   ]
  },
  {
   "cell_type": "code",
   "execution_count": null,
   "metadata": {},
   "outputs": [
    {
     "name": "stdout",
     "output_type": "stream",
     "text": [
      "Gender_Undefined\n"
     ]
    }
   ],
   "source": [
    "SPD = []\n",
    "DI = []\n",
    "EqualOpp = []\n",
    "AverageOdds = []\n",
    "GEI = []\n",
    "Theil = []\n",
    "\n",
    "for attr in protected:\n",
    "    print(attr)\n",
    "    spd_score = statistical_parity_difference(y_test, y_pred, prot_attr=attr, priv_group=priv_group_dict[attr])\n",
    "    SPD.append(spd_score)\n",
    "    di_score = disparate_impact_ratio(y_test, y_pred, prot_attr=attr, priv_group=priv_group_dict[attr])\n",
    "    DI.append(di_score)\n",
    "    equalopp = equal_opportunity_difference(y_test, y_pred, prot_attr=attr, priv_group=priv_group_dict[attr])\n",
    "    EqualOpp.append(equalopp)\n",
    "    averageodd = average_odds_difference(y_test, y_pred, prot_attr=attr, priv_group=priv_group_dict[attr])\n",
    "    AverageOdds.append(averageodd)\n",
    "    gei = generalized_entropy_index(b=b, alpha=2)\n",
    "    GEI.append(gei)\n",
    "    theil = generalized_entropy_index(b=b, alpha=1)\n",
    "    Theil.append(theil)\n"
   ]
  },
  {
   "cell_type": "code",
   "execution_count": null,
   "metadata": {},
   "outputs": [],
   "source": [
    "df_bias = pd.DataFrame({'Protected_feature':protected,'Statistical_Parity':SPD,'Disparate_Impact':DI, 'Equal Opportunity difference':EqualOpp, 'Equalized Odds difference': AverageOdds, 'GEI':GEI, 'Theil':Theil})\n",
    "df_bias['DI_normal']=df_bias[\"Disparate_Impact\"].apply(lambda x: 1/x if x < 1 else x)\n",
    "df_bias['SPD_normal']=df_bias[\"Statistical_Parity\"].apply(lambda x: abs(x) if x < 0 else x)\n",
    "df_bias['EoppD_normal']=df_bias[\"Equal Opportunity difference\"].apply(lambda x: abs(x) if x < 0 else x)\n",
    "df_bias['EoddsD_normal']=df_bias[\"Equalized Odds difference\"].apply(lambda x: abs(x) if x < 0 else x)\n"
   ]
  },
  {
   "cell_type": "code",
   "execution_count": null,
   "metadata": {},
   "outputs": [
    {
     "data": {
      "text/html": [
       "<div>\n",
       "<style scoped>\n",
       "    .dataframe tbody tr th:only-of-type {\n",
       "        vertical-align: middle;\n",
       "    }\n",
       "\n",
       "    .dataframe tbody tr th {\n",
       "        vertical-align: top;\n",
       "    }\n",
       "\n",
       "    .dataframe thead th {\n",
       "        text-align: right;\n",
       "    }\n",
       "</style>\n",
       "<table border=\"1\" class=\"dataframe\">\n",
       "  <thead>\n",
       "    <tr style=\"text-align: right;\">\n",
       "      <th></th>\n",
       "      <th>Protected_feature</th>\n",
       "      <th>DI_normal</th>\n",
       "      <th>SPD_normal</th>\n",
       "      <th>EoppD_normal</th>\n",
       "      <th>EoddsD_normal</th>\n",
       "      <th>GEI</th>\n",
       "      <th>Theil</th>\n",
       "    </tr>\n",
       "  </thead>\n",
       "  <tbody>\n",
       "    <tr>\n",
       "      <th>0</th>\n",
       "      <td>Gender_Undefined</td>\n",
       "      <td>1.017507</td>\n",
       "      <td>0.017201</td>\n",
       "      <td>0.016427</td>\n",
       "      <td>0.017637</td>\n",
       "      <td>0.04918</td>\n",
       "      <td>0.052152</td>\n",
       "    </tr>\n",
       "  </tbody>\n",
       "</table>\n",
       "</div>"
      ],
      "text/plain": [
       "  Protected_feature  DI_normal  SPD_normal  EoppD_normal  EoddsD_normal  \\\n",
       "0  Gender_Undefined   1.017507    0.017201      0.016427       0.017637   \n",
       "\n",
       "       GEI     Theil  \n",
       "0  0.04918  0.052152  "
      ]
     },
     "execution_count": 23,
     "metadata": {},
     "output_type": "execute_result"
    }
   ],
   "source": [
    "df_bias.loc[:,['Protected_feature', 'DI_normal', 'SPD_normal', 'EoppD_normal', 'EoddsD_normal', 'GEI', 'Theil']].head(10)"
   ]
  }
 ],
 "metadata": {
  "kernelspec": {
   "display_name": "benv",
   "language": "python",
   "name": "python3"
  },
  "language_info": {
   "codemirror_mode": {
    "name": "ipython",
    "version": 3
   },
   "file_extension": ".py",
   "mimetype": "text/x-python",
   "name": "python",
   "nbconvert_exporter": "python",
   "pygments_lexer": "ipython3",
   "version": "3.12.2"
  }
 },
 "nbformat": 4,
 "nbformat_minor": 2
}
